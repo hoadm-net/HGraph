{
 "cells": [
  {
   "cell_type": "code",
   "execution_count": 6,
   "metadata": {},
   "outputs": [],
   "source": [
    "import os\n",
    "\n",
    "os.environ[\"DGLBACKEND\"] = \"pytorch\"\n",
    "\n",
    "import dgl\n",
    "import dgl.data\n",
    "import torch\n",
    "import torch.nn as nn\n",
    "import torch.nn.functional as F"
   ]
  },
  {
   "cell_type": "markdown",
   "metadata": {},
   "source": [
    "# Loading Cora Dataset¶"
   ]
  },
  {
   "cell_type": "code",
   "execution_count": 7,
   "metadata": {},
   "outputs": [
    {
     "name": "stdout",
     "output_type": "stream",
     "text": [
      "Downloading /Users/hoadinh/.dgl/cora_v2.zip from https://data.dgl.ai/dataset/cora_v2.zip...\n"
     ]
    },
    {
     "name": "stderr",
     "output_type": "stream",
     "text": [
      "/Users/hoadinh/.dgl/cora_v2.zip: 100%|██████████| 132k/132k [00:00<00:00, 737kB/s] \n"
     ]
    },
    {
     "name": "stdout",
     "output_type": "stream",
     "text": [
      "Extracting file to /Users/hoadinh/.dgl/cora_v2_d697a464\n",
      "Finished data loading and preprocessing.\n",
      "  NumNodes: 2708\n",
      "  NumEdges: 10556\n",
      "  NumFeats: 1433\n",
      "  NumClasses: 7\n",
      "  NumTrainingSamples: 140\n",
      "  NumValidationSamples: 500\n",
      "  NumTestSamples: 1000\n",
      "Done saving data into cached files.\n",
      "Number of categories: 7\n"
     ]
    }
   ],
   "source": [
    "dataset = dgl.data.CoraGraphDataset()\n",
    "print(f\"Number of categories: {dataset.num_classes}\")"
   ]
  },
  {
   "cell_type": "code",
   "execution_count": 8,
   "metadata": {},
   "outputs": [
    {
     "name": "stdout",
     "output_type": "stream",
     "text": [
      "<class 'dgl.data.citation_graph.CoraGraphDataset'>\n"
     ]
    }
   ],
   "source": [
    "print(type(dataset))"
   ]
  },
  {
   "cell_type": "code",
   "execution_count": 9,
   "metadata": {},
   "outputs": [
    {
     "name": "stdout",
     "output_type": "stream",
     "text": [
      "<class 'dgl.heterograph.DGLGraph'>\n"
     ]
    }
   ],
   "source": [
    "g = dataset[0]\n",
    "print(type(g))"
   ]
  },
  {
   "cell_type": "markdown",
   "metadata": {},
   "source": [
    "A DGL graph can store node features and edge features in two dictionary-like attributes called ndata and edata. In the DGL Cora dataset, the graph contains the following node features:\n",
    "\n",
    "* ```train_mask``` A boolean tensor indicating whether the node is in the training set.\n",
    "* ```val_mask``` A boolean tensor indicating whether the node is in the validation set.\n",
    "* ```test_mask``` A boolean tensor indicating whether the node is in the test set.\n",
    "* ```label``` The ground truth node category.\n",
    "* ```feat``` The node features."
   ]
  },
  {
   "cell_type": "code",
   "execution_count": 10,
   "metadata": {},
   "outputs": [
    {
     "name": "stdout",
     "output_type": "stream",
     "text": [
      "Node features\n",
      "{'train_mask': tensor([ True,  True,  True,  ..., False, False, False]), 'val_mask': tensor([False, False, False,  ..., False, False, False]), 'test_mask': tensor([False, False, False,  ...,  True,  True,  True]), 'label': tensor([3, 4, 4,  ..., 3, 3, 3]), 'feat': tensor([[0., 0., 0.,  ..., 0., 0., 0.],\n",
      "        [0., 0., 0.,  ..., 0., 0., 0.],\n",
      "        [0., 0., 0.,  ..., 0., 0., 0.],\n",
      "        ...,\n",
      "        [0., 0., 0.,  ..., 0., 0., 0.],\n",
      "        [0., 0., 0.,  ..., 0., 0., 0.],\n",
      "        [0., 0., 0.,  ..., 0., 0., 0.]])}\n",
      "Edge features\n",
      "{}\n"
     ]
    }
   ],
   "source": [
    "print(\"Node features\")\n",
    "print(g.ndata)\n",
    "print(\"Edge features\")\n",
    "print(g.edata)"
   ]
  },
  {
   "cell_type": "markdown",
   "metadata": {},
   "source": [
    "# Defining a Graph Convolutional Network (GCN)"
   ]
  },
  {
   "cell_type": "code",
   "execution_count": 11,
   "metadata": {},
   "outputs": [],
   "source": [
    "from dgl.nn import GraphConv\n",
    "\n",
    "\n",
    "class GCN(nn.Module):\n",
    "    def __init__(self, in_feats, h_feats, num_classes):\n",
    "        super(GCN, self).__init__()\n",
    "        self.conv1 = GraphConv(in_feats, h_feats)\n",
    "        self.conv2 = GraphConv(h_feats, num_classes)\n",
    "\n",
    "    def forward(self, g, in_feat):\n",
    "        h = self.conv1(g, in_feat)\n",
    "        h = F.relu(h)\n",
    "        h = self.conv2(g, h)\n",
    "        return h"
   ]
  },
  {
   "cell_type": "markdown",
   "metadata": {},
   "source": [
    "# Training the GCN\n",
    "\n",
    "Training this GCN is similar to training other PyTorch neural networks."
   ]
  },
  {
   "cell_type": "code",
   "execution_count": 16,
   "metadata": {},
   "outputs": [
    {
     "name": "stdout",
     "output_type": "stream",
     "text": [
      "In epoch 0, loss: 1.946, val acc: 0.136 (best 0.136), test acc: 0.135 (best 0.135)\n",
      "In epoch 5, loss: 1.896, val acc: 0.426 (best 0.426), test acc: 0.453 (best 0.480)\n",
      "In epoch 10, loss: 1.819, val acc: 0.670 (best 0.670), test acc: 0.689 (best 0.689)\n",
      "In epoch 15, loss: 1.720, val acc: 0.714 (best 0.714), test acc: 0.720 (best 0.720)\n",
      "In epoch 20, loss: 1.596, val acc: 0.732 (best 0.732), test acc: 0.745 (best 0.745)\n",
      "In epoch 25, loss: 1.452, val acc: 0.730 (best 0.736), test acc: 0.757 (best 0.751)\n",
      "In epoch 30, loss: 1.290, val acc: 0.740 (best 0.740), test acc: 0.760 (best 0.763)\n",
      "In epoch 35, loss: 1.120, val acc: 0.744 (best 0.744), test acc: 0.756 (best 0.759)\n",
      "In epoch 40, loss: 0.949, val acc: 0.752 (best 0.752), test acc: 0.765 (best 0.765)\n",
      "In epoch 45, loss: 0.788, val acc: 0.760 (best 0.760), test acc: 0.770 (best 0.770)\n",
      "In epoch 50, loss: 0.645, val acc: 0.768 (best 0.768), test acc: 0.773 (best 0.773)\n",
      "In epoch 55, loss: 0.522, val acc: 0.774 (best 0.774), test acc: 0.776 (best 0.776)\n",
      "In epoch 60, loss: 0.422, val acc: 0.778 (best 0.778), test acc: 0.778 (best 0.778)\n",
      "In epoch 65, loss: 0.342, val acc: 0.786 (best 0.786), test acc: 0.779 (best 0.779)\n",
      "In epoch 70, loss: 0.280, val acc: 0.780 (best 0.786), test acc: 0.783 (best 0.779)\n",
      "In epoch 75, loss: 0.231, val acc: 0.780 (best 0.786), test acc: 0.785 (best 0.779)\n",
      "In epoch 80, loss: 0.193, val acc: 0.782 (best 0.786), test acc: 0.786 (best 0.779)\n",
      "In epoch 85, loss: 0.162, val acc: 0.780 (best 0.786), test acc: 0.787 (best 0.779)\n",
      "In epoch 90, loss: 0.138, val acc: 0.784 (best 0.786), test acc: 0.781 (best 0.779)\n",
      "In epoch 95, loss: 0.119, val acc: 0.782 (best 0.788), test acc: 0.780 (best 0.780)\n"
     ]
    }
   ],
   "source": [
    "def train(g, model):\n",
    "    optimizer = torch.optim.Adam(model.parameters(), lr=0.01)\n",
    "    best_val_acc = 0\n",
    "    best_test_acc = 0\n",
    "\n",
    "    features = g.ndata[\"feat\"]\n",
    "    labels = g.ndata[\"label\"]\n",
    "    train_mask = g.ndata[\"train_mask\"]\n",
    "    val_mask = g.ndata[\"val_mask\"]\n",
    "    test_mask = g.ndata[\"test_mask\"]\n",
    "    \n",
    "    for e in range(100):\n",
    "        # Forward\n",
    "        logits = model(g, features)\n",
    "\n",
    "        # Compute prediction\n",
    "        pred = logits.argmax(1)\n",
    "\n",
    "        # Compute loss\n",
    "        # Note that you should only compute the losses of the nodes in the training set.\n",
    "        loss = F.cross_entropy(logits[train_mask], labels[train_mask])\n",
    "\n",
    "        # Compute accuracy on training/validation/test\n",
    "        train_acc = (pred[train_mask] == labels[train_mask]).float().mean()\n",
    "        val_acc = (pred[val_mask] == labels[val_mask]).float().mean()\n",
    "        test_acc = (pred[test_mask] == labels[test_mask]).float().mean()\n",
    "\n",
    "        # Save the best validation accuracy and the corresponding test accuracy.\n",
    "        if best_val_acc < val_acc:\n",
    "            best_val_acc = val_acc\n",
    "            best_test_acc = test_acc\n",
    "\n",
    "        # Backward\n",
    "        optimizer.zero_grad()\n",
    "        loss.backward()\n",
    "        optimizer.step()\n",
    "\n",
    "        if e % 5 == 0:\n",
    "            print(\n",
    "                f\"In epoch {e}, loss: {loss:.3f}, val acc: {val_acc:.3f} (best {best_val_acc:.3f}), test acc: {test_acc:.3f} (best {best_test_acc:.3f})\"\n",
    "            )\n",
    "\n",
    "\n",
    "# Create the model with given dimensions\n",
    "model = GCN(\n",
    "    in_feats=g.ndata[\"feat\"].shape[1], \n",
    "    h_feats=16, \n",
    "    num_classes=dataset.num_classes\n",
    ")\n",
    "train(g, model)"
   ]
  },
  {
   "cell_type": "code",
   "execution_count": null,
   "metadata": {},
   "outputs": [],
   "source": []
  }
 ],
 "metadata": {
  "kernelspec": {
   "display_name": "venv",
   "language": "python",
   "name": "python3"
  },
  "language_info": {
   "codemirror_mode": {
    "name": "ipython",
    "version": 3
   },
   "file_extension": ".py",
   "mimetype": "text/x-python",
   "name": "python",
   "nbconvert_exporter": "python",
   "pygments_lexer": "ipython3",
   "version": "3.9.6"
  }
 },
 "nbformat": 4,
 "nbformat_minor": 2
}
